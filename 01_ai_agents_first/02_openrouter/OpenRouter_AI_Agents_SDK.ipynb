{
  "cells": [
    {
      "cell_type": "markdown",
      "metadata": {
        "id": "o92NPvIPpmCv"
      },
      "source": [
        "# Use OpenRouter With OpenAI Agents SDK"
      ]
    },
    {
      "cell_type": "markdown",
      "metadata": {
        "id": "l5oT3E8gqY_O"
      },
      "source": [
        "Setup Prerequisite:\n",
        "\n",
        "1. [Signup at OpenRouter](https://openrouter.ai/)\n",
        "2. [Create an API Key](https://openrouter.ai/settings/keys)\n",
        "2. Select a Free Model (you can continue as we are using a free model here)"
      ]
    },
    {
      "cell_type": "markdown",
      "metadata": {
        "id": "-Zh5JPz1qLbD"
      },
      "source": [
        "## Free and Paid Models"
      ]
    },
    {
      "cell_type": "markdown",
      "metadata": {
        "id": "3NksiafzqSg7"
      },
      "source": [
        "The OpenRouter supports the latest DeepSeek V3 0324 and 50+ other models for free. Most of them support the defacto standard: OpenAI Chat Completion API.\n",
        "\n",
        "\n",
        "If you are using a free model variant (with an ID ending in :free), then you will be limited to 20 requests per minute and 200 requests per day.\n",
        "\n",
        "**See all Models List: https://openrouter.ai/models**\n",
        "\n",
        "Note: OpenRouter do not charge anything extra at inference time."
      ]
    },
    {
      "cell_type": "markdown",
      "metadata": {
        "id": "Krf3ozmkpsVs"
      },
      "source": [
        "## Rate Limiting and Crediting"
      ]
    },
    {
      "cell_type": "markdown",
      "metadata": {
        "id": "WhcFykdIqKI4"
      },
      "source": [
        "There are a few rate limits that apply to certain types of requests, regardless of account status:\n",
        "\n",
        "- Free limit: If you are using a free model variant (with an ID ending in :free), then you will be limited to 20 requests per minute and 200 requests per day.\n",
        "\n",
        "If your account has a negative credit balance, you may see 402 errors, including for free models. Adding credits to put your balance above zero allows you to use those models again.\n",
        "\n",
        "[Reference](https://openrouter.ai/docs/api-reference/limits)"
      ]
    },
    {
      "cell_type": "markdown",
      "metadata": {
        "id": "GqX_s5idrryf"
      },
      "source": [
        "## Install OpenAI Agents Dep."
      ]
    },
    {
      "cell_type": "code",
      "execution_count": 13,
      "metadata": {
        "id": "7teAe2rONlBe"
      },
      "outputs": [],
      "source": [
        "!pip install -Uq openai-agents"
      ]
    },
    {
      "cell_type": "code",
      "execution_count": 14,
      "metadata": {
        "id": "z3_PWpn4OIyT"
      },
      "outputs": [],
      "source": [
        "import nest_asyncio\n",
        "nest_asyncio.apply()"
      ]
    },
    {
      "cell_type": "markdown",
      "metadata": {
        "id": "ZTOibVJuN_pi"
      },
      "source": [
        "## Provider Config"
      ]
    },
    {
      "cell_type": "code",
      "execution_count": 15,
      "metadata": {
        "id": "zvmgohqY0-Wm"
      },
      "outputs": [],
      "source": [
        "from google.colab import userdata\n",
        "\n",
        "OPENROUTER_API_KEY = userdata.get(\"OPENROUTER_API_KEY\")"
      ]
    },
    {
      "cell_type": "code",
      "execution_count": 19,
      "metadata": {
        "id": "DeTqCZKGlVk_"
      },
      "outputs": [],
      "source": [
        "#Reference: https://openrouter.ai/docs/quickstart\n",
        "\n",
        "BASE_URL = \"https://openrouter.ai/api/v1\"\n",
        "MODEL = \"thudm/glm-z1-32b:free\"\n",
        "\n",
        "# Some other free models on 26th March:\n",
        "# https://openrouter.ai/deepseek/deepseek-chat-v3-0324:free\n",
        "# https://openrouter.ai/google/gemini-2.5-pro-exp-03-25:free"
      ]
    },
    {
      "cell_type": "markdown",
      "metadata": {
        "id": "IyWF4XNPtI7f"
      },
      "source": [
        "## 1. Using the OpenRouter API directly"
      ]
    },
    {
      "cell_type": "code",
      "execution_count": 20,
      "metadata": {
        "colab": {
          "base_uri": "https://localhost:8080/"
        },
        "id": "e0if6eGutM9h",
        "outputId": "fcce8c6d-05aa-4bba-f756-3568278b7623"
      },
      "outputs": [
        {
          "output_type": "stream",
          "name": "stdout",
          "text": [
            "{'id': 'gen-1745047463-tYvaXlvE4cHcTwy883yy', 'provider': 'Chutes', 'model': 'thudm/glm-z1-32b', 'object': 'chat.completion', 'created': 1745047463, 'choices': [{'logprobs': None, 'finish_reason': 'stop', 'native_finish_reason': 'stop', 'index': 0, 'message': {'role': 'assistant', 'content': 'The question of life’s meaning has been explored across cultures, philosophies, and sciences, yielding diverse perspectives. Biologically, life’s \"purpose\" might be seen through evolution—survival, reproduction, and the continuation of species. Philosophically, existentialists like Jean-Paul Sartre argue that life has no inherent meaning, and it’s up to individuals to *create* their own purpose through choices, passions, and commitments. Albert Camus, in *The Myth of Sisyphus*, suggests embracing the absurdity of seeking meaning in an indifferent universe, finding purpose in the struggle itself, like Sisyphus pushing a boulder endlessly.  \\n\\nReligions and spiritual traditions often propose transcendent answers. For example, many faiths emphasize serving a higher power, achieving enlightenment, or cultivating love, compassion, and unity. Existential psychologists, like Viktor Frankl in *Man’s Search for Meaning*, highlight finding purpose even in suffering by focusing on what matters most to the individual.  \\n\\nOn a personal level, meaning often emerges from relationships, creativity, helping others, pursuing knowledge, or experiencing wonder. It can shift throughout life—what brings meaning in youth might differ in later stages.  \\n\\nUltimately, there’s no single \"right\" answer. The question itself invites introspection: *What makes your life feel meaningful?* Some find it in fleeting joys, others in grand ambitions. The search itself, for many, is part of the journey. How would *you* define your purpose?', 'refusal': None, 'reasoning': 'Okay, the user is asking about the meaning of life. That\\'s a classic philosophical question. I need to approach this carefully. Let\\'s start by acknowledging that there\\'s no single answer. Different perspectives might help the user explore their own beliefs.\\n\\nFirst, the biological angle. From an evolutionary standpoint, the purpose could be about survival and reproduction. But the user might be looking for something deeper than just biology. \\n\\nNext, philosophy. Existentialism comes to mind. Thinkers like Sartre or Camus suggest that life has no inherent meaning, and individuals must create their own. Camus\\' \"the myth of Sisyphus\" uses the metaphor of Sisyphus pushing a boulder up a hill endlessly. The point is to find fulfillment in the struggle itself. That\\'s a key point to mention.\\n\\nReligious and spiritual views are important too. Many religions have their own take, like serving a higher power or achieving enlightenment. It might be good to list a few examples without being too specific. \\n\\nThen there\\'s the personal meaning aspect. Maybe the user is seeking guidance on finding their own purpose through relationships, hobbies, helping others, etc. Emphasizing that meaning can be subjective and personal could be helpful.\\n\\nAlso, addressing the existential aspect. The question of purpose in an indifferent universe is tough, but approaches like focusing on moments of joy, connection, and growth can be suggested. Avoid getting too abstract here; keep it relatable.\\n\\nI should structure the answer to cover these areas: biological, philosophical (existentialism), religious/spiritual, and personal meaning. Conclude by reassuring that the journey of seeking meaning is part of the human experience. Maybe end with a question to prompt further reflection, like what activities or values bring them fulfillment.\\n\\nWait, the user might be going through a period of existential crisis. The response should be empathetic, open-ended, and not dismissive. Need to balance between acknowledging the complexity and offering different lenses to view the question through.\\n\\nAlso, check if the response avoids any controversy, like not favoring one religion over others. Keep it neutral. Mentioning that different cultures and individuals have varying answers would be good.\\n\\nInclude examples from literature or philosophy without being too academic. Make it accessible. Maybe mention Victor Frankl\\'s \"Man\\'s Search for Meaning\" as a reference point, since he talks about finding purpose even in suffering.\\n\\nEnsure the tone is supportive, not definitive. The goal is to help the user explore their own perspective rather than provide a definitive answer. So, use phrases like \"some believe,\" \"others argue,\" \"you might explore.\"\\n\\nCheck for any biases. The assistant should present various viewpoints without personal opinion. Stay neutral and informative.\\n\\nPutting it all together: start with a recognition that it\\'s a profound question. Then outline different perspectives (biological, existential, religious, personal). End with encouragement to explore what resonates personally. Maybe add a note about it being ongoing and evolving, which can be comforting.\\n\\nAvoid technical jargon. Keep sentences clear and straightforward. Maybe use the Sisyphus example as it\\'s a well-known metaphor. Also, mention that while there\\'s no universal answer, many find purpose in relationships, contributing to society, personal growth, etc.\\n\\nOkay, structure:\\n\\n1. Introduction: Acknowledge the question\\'s depth and that answers vary.\\n\\n2. Biological perspective: Survival, reproduction.\\n\\n3. Philosophical: Existentialism (create your own meaning), absurdism (find meaning in an absurd universe).\\n\\n4. Religious/Spiritual: Serving a higher power, enlightenment, etc.\\n\\n5. Personal Meaning: Relationships, goals, helping others, self-expression.\\n\\n6. Conclusion: Emphasize the journey and personal exploration.\\n\\nMake sure each section is concise. Maybe use bullet points, but since it\\'s a paragraph, keep the transitions smooth. Check for flow and clarity. Avoid any markdown formatting as per the instructions.\\n'}}], 'usage': {'prompt_tokens': 29, 'completion_tokens': 1103, 'total_tokens': 1132}}\n"
          ]
        }
      ],
      "source": [
        "import requests\n",
        "import json\n",
        "\n",
        "response = requests.post(\n",
        "  url=f\"{BASE_URL}/chat/completions\",\n",
        "  headers={\n",
        "    \"Authorization\": f\"Bearer {OPENROUTER_API_KEY}\",\n",
        "  },\n",
        "  data=json.dumps({\n",
        "    \"model\": MODEL,\n",
        "    \"messages\": [\n",
        "      {\n",
        "        \"role\": \"user\",\n",
        "        \"content\": \"What is the meaning of life?\"\n",
        "      }\n",
        "    ]\n",
        "  })\n",
        ")\n",
        "\n",
        "print(response.json())"
      ]
    },
    {
      "cell_type": "code",
      "execution_count": 21,
      "metadata": {
        "colab": {
          "base_uri": "https://localhost:8080/",
          "height": 139
        },
        "id": "mv3B6_oRto5S",
        "outputId": "3c6f58d6-6089-4ec1-899d-d0a427390440"
      },
      "outputs": [
        {
          "output_type": "execute_result",
          "data": {
            "text/plain": [
              "'The question of life’s meaning has been explored across cultures, philosophies, and sciences, yielding diverse perspectives. Biologically, life’s \"purpose\" might be seen through evolution—survival, reproduction, and the continuation of species. Philosophically, existentialists like Jean-Paul Sartre argue that life has no inherent meaning, and it’s up to individuals to *create* their own purpose through choices, passions, and commitments. Albert Camus, in *The Myth of Sisyphus*, suggests embracing the absurdity of seeking meaning in an indifferent universe, finding purpose in the struggle itself, like Sisyphus pushing a boulder endlessly.  \\n\\nReligions and spiritual traditions often propose transcendent answers. For example, many faiths emphasize serving a higher power, achieving enlightenment, or cultivating love, compassion, and unity. Existential psychologists, like Viktor Frankl in *Man’s Search for Meaning*, highlight finding purpose even in suffering by focusing on what matters most to the individual.  \\n\\nOn a personal level, meaning often emerges from relationships, creativity, helping others, pursuing knowledge, or experiencing wonder. It can shift throughout life—what brings meaning in youth might differ in later stages.  \\n\\nUltimately, there’s no single \"right\" answer. The question itself invites introspection: *What makes your life feel meaningful?* Some find it in fleeting joys, others in grand ambitions. The search itself, for many, is part of the journey. How would *you* define your purpose?'"
            ],
            "application/vnd.google.colaboratory.intrinsic+json": {
              "type": "string"
            }
          },
          "metadata": {},
          "execution_count": 21
        }
      ],
      "source": [
        "data = response.json()\n",
        "data['choices'][0]['message']['content']"
      ]
    },
    {
      "cell_type": "markdown",
      "metadata": {
        "id": "E_jESzWAsu91"
      },
      "source": [
        "## 2. Using OpenAI Agents SDK"
      ]
    },
    {
      "cell_type": "code",
      "execution_count": 30,
      "metadata": {
        "colab": {
          "base_uri": "https://localhost:8080/"
        },
        "id": "QA4vWqtvN6wm",
        "outputId": "6f83b38b-dbad-4fc9-a920-dbc25339be99"
      },
      "outputs": [
        {
          "output_type": "stream",
          "name": "stdout",
          "text": [
            "سیرت کی باغ میں سیب کی رنگ لہوٹے،  \n",
            "زندگی کا غز میں شبنم سوسنے والے۔  \n",
            "\n",
            "آدمکی تو نہ بس کہ پھل سے بدوم بدوم،  \n",
            "وہ تو اُٹھا پھلوں کے آئینے میں وہ کیا جون سُناوؔ  \n",
            "\n",
            "خزا کی آوازوں نے کھول دیا سروے پہ،  \n",
            "میری اکالیس کی راہ میں بسا ہويا تُوآوؔ  \n",
            "\n",
            "دل کی آگ میں بھی رقص ہے شہر کل میں،  \n",
            "آئیے تینوں توئیں روئیے گے ہمیں جوئے ساؤؔ  \n",
            "\n",
            "سنو اگر راز وہ چھوٹا شق بن کر،  \n",
            "سیب کی ہی طرح میں جائے گا میرا راز بدونؔ\n"
          ]
        }
      ],
      "source": [
        "import asyncio\n",
        "from openai import AsyncOpenAI\n",
        "from agents import Agent, OpenAIChatCompletionsModel, Runner, set_tracing_disabled\n",
        "\n",
        "client = AsyncOpenAI(\n",
        "    api_key=OPENROUTER_API_KEY,\n",
        "    base_url=BASE_URL\n",
        ")\n",
        "\n",
        "set_tracing_disabled(disabled=True)\n",
        "\n",
        "async def main():\n",
        "    # This agent will use the custom LLM provider\n",
        "    agent = Agent(\n",
        "        name=\"Assistant\",\n",
        "        instructions=\"You only respond in ghazal.\",\n",
        "        model=OpenAIChatCompletionsModel(model=MODEL, openai_client=client),\n",
        "    )\n",
        "\n",
        "    result = await Runner.run(\n",
        "        agent,\n",
        "        \"Tell me about apple\",\n",
        "    )\n",
        "    print(result.final_output)\n",
        "\n",
        "\n",
        "if __name__ == \"__main__\":\n",
        "    asyncio.run(main())"
      ]
    },
    {
      "cell_type": "markdown",
      "metadata": {
        "id": "6NdjfnnY1Y2U"
      },
      "source": [
        "# OpenRouter 404 Error Solution\n",
        "\n",
        "## Error - No endpoints found matching\n",
        "```python\n",
        "NotFoundError: Error code: 404 - {'error': {'message': 'No endpoints found matching your data policy. Enable prompt training here: https://openrouter.ai/settings/privacy', 'code': 404}}\n",
        "```\n",
        "\n",
        "## Cause\n",
        "This error occurs when OpenRouter API can't find endpoints matching your data policy, typically because prompt training is disabled.\n",
        "\n",
        "## Solution\n",
        "\n",
        "1. **Enable Prompt Training**:\n",
        "   - Visit [OpenRouter Privacy Settings](https://openrouter.ai/settings/privacy)\n",
        "   - Toggle ON \"Prompt Training\" option\n",
        "\n",
        "2. **Re-run your code** after enabling\n",
        "\n",
        "![OpenRouter Settings Screenshot](https://github.com/panaversity/learn-agentic-ai/blob/main/01_ai_agents_first/02_openrouter/openrouter.png?raw=1)\n",
        "*(Example: Enable prompt training in privacy settings)*\n",
        "\n",
        "## Prevention\n",
        "Keep prompt training enabled for uninterrupted API access.\n",
        "```"
      ]
    },
    {
      "cell_type": "code",
      "source": [
        "print(\"hello world0\")\n",
        "print(\"hello world1\")\n",
        "print(\"hello world2\")\n",
        "print(\"hello world3\")\n",
        "print(\"hello world4\")"
      ],
      "metadata": {
        "colab": {
          "base_uri": "https://localhost:8080/"
        },
        "id": "nLsJkPPC9YDX",
        "outputId": "32d26bce-b6aa-462d-d882-c976b43a0c45"
      },
      "execution_count": 26,
      "outputs": [
        {
          "output_type": "stream",
          "name": "stdout",
          "text": [
            "hello world0\n",
            "hello world1\n",
            "hello world2\n",
            "hello world3\n",
            "hello world4\n"
          ]
        }
      ]
    },
    {
      "cell_type": "code",
      "source": [
        "print(\"hello world\")"
      ],
      "metadata": {
        "colab": {
          "base_uri": "https://localhost:8080/"
        },
        "id": "Xmyu5Qj-9bGh",
        "outputId": "201adb0e-1599-4832-858c-132ae72cdd4a"
      },
      "execution_count": 24,
      "outputs": [
        {
          "output_type": "stream",
          "name": "stdout",
          "text": [
            "hello world\n"
          ]
        }
      ]
    },
    {
      "cell_type": "code",
      "source": [],
      "metadata": {
        "id": "p2RARGbM9bnh"
      },
      "execution_count": null,
      "outputs": []
    }
  ],
  "metadata": {
    "colab": {
      "provenance": []
    },
    "kernelspec": {
      "display_name": "Python 3",
      "name": "python3"
    },
    "language_info": {
      "name": "python"
    }
  },
  "nbformat": 4,
  "nbformat_minor": 0
}